{
  "nbformat": 4,
  "nbformat_minor": 0,
  "metadata": {
    "colab": {
      "provenance": [],
      "authorship_tag": "ABX9TyP+2iZujaiKjMyHb+q6qUyy",
      "include_colab_link": true
    },
    "kernelspec": {
      "name": "python3",
      "display_name": "Python 3"
    },
    "language_info": {
      "name": "python"
    }
  },
  "cells": [
    {
      "cell_type": "markdown",
      "metadata": {
        "id": "view-in-github",
        "colab_type": "text"
      },
      "source": [
        "<a href=\"https://colab.research.google.com/github/oswaldo-spadari/Python/blob/master/Medias_Moveis_Estudo.ipynb\" target=\"_parent\"><img src=\"https://colab.research.google.com/assets/colab-badge.svg\" alt=\"Open In Colab\"/></a>"
      ]
    },
    {
      "cell_type": "code",
      "source": [
        "import yfinance as yf\n",
        "import datetime\n",
        "\n",
        "# Definir o período de dados que você deseja extrair\n",
        "start_date = datetime.datetime(2020, 1, 1)\n",
        "end_date = datetime.datetime(2023, 7, 29)\n",
        "\n",
        "# Escolher o ticker da ação da B3 que você deseja obter os dados\n",
        "ticker = \"CXSE3.SA\"  # Exemplo: ação da Petrobras\n",
        "\n",
        "# Extrair os dados da B3 usando yfinance\n",
        "df = yf.download(ticker, start=start_date, end=end_date)\n",
        "\n",
        "# Calcular as Médias Móveis Exponenciais de 21 e 9 dias\n",
        "df['MME_21'] = df['Close'].ewm(span=21, adjust=False).mean()\n",
        "df['MME_9'] = df['Close'].ewm(span=9, adjust=False).mean()\n",
        "\n",
        "# Criar uma coluna para sinalizar os momentos de compra e venda\n",
        "df['Sinal'] = 0\n",
        "\n",
        "# Identificar os pontos de compra (quando MME de 9 dias cruza para cima a MME de 21 dias)\n",
        "df.loc[df['MME_9'] > df['MME_21'], 'Sinal'] = 1\n",
        "\n",
        "# Identificar os pontos de venda (quando MME de 9 dias cruza para baixo a MME de 21 dias)\n",
        "df.loc[df['MME_9'] < df['MME_21'], 'Sinal'] = -1\n",
        "\n",
        "# Calcular o lucro teórico seguindo a estratégia\n",
        "quantidade_acoes = 1000\n",
        "df['Posição'] = df['Sinal'].diff()  # Diferença entre os sinais para identificar os pontos de entrada/saída\n",
        "df['Lucro'] = df['Posição'] * df['Close'] * quantidade_acoes\n",
        "\n",
        "lucro_total = df['Lucro'].sum()\n",
        "\n",
        "print(f\"Lucro teórico total seguindo a estratégia: R${lucro_total:.2f}\")\n"
      ],
      "metadata": {
        "colab": {
          "base_uri": "https://localhost:8080/"
        },
        "id": "HHG_gitSVHbw",
        "outputId": "e38f80af-9ff7-4cfc-89e3-749375a5d969"
      },
      "execution_count": 3,
      "outputs": [
        {
          "output_type": "stream",
          "name": "stdout",
          "text": [
            "\r[*********************100%%**********************]  1 of 1 completed\n",
            "Lucro teórico total seguindo a estratégia: R$8580.00\n"
          ]
        }
      ]
    }
  ]
}