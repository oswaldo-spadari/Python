{
  "nbformat": 4,
  "nbformat_minor": 0,
  "metadata": {
    "colab": {
      "provenance": [],
      "authorship_tag": "ABX9TyMUfyagohZ7Poc0bvhQXEw5",
      "include_colab_link": true
    },
    "kernelspec": {
      "name": "python3",
      "display_name": "Python 3"
    },
    "language_info": {
      "name": "python"
    }
  },
  "cells": [
    {
      "cell_type": "markdown",
      "metadata": {
        "id": "view-in-github",
        "colab_type": "text"
      },
      "source": [
        "<a href=\"https://colab.research.google.com/github/oswaldo-spadari/Python/blob/master/Backtest_Media_Movel.ipynb\" target=\"_parent\"><img src=\"https://colab.research.google.com/assets/colab-badge.svg\" alt=\"Open In Colab\"/></a>"
      ]
    },
    {
      "cell_type": "code",
      "execution_count": 1,
      "metadata": {
        "colab": {
          "base_uri": "https://localhost:8080/"
        },
        "id": "YMfIFSllrcdb",
        "outputId": "c37eba06-13b0-43a2-da9c-36b510c8217a"
      },
      "outputs": [
        {
          "output_type": "stream",
          "name": "stdout",
          "text": [
            "Retorno final do backtest: 48.77%\n"
          ]
        }
      ],
      "source": [
        "import yfinance as yf\n",
        "import pandas as pd\n",
        "\n",
        "# Defina o símbolo da ação que deseja analisar e o período histórico\n",
        "symbol = 'AAPL'  # Exemplo: Apple Inc.\n",
        "start_date = '2020-01-01'\n",
        "end_date = '2021-12-31'\n",
        "\n",
        "# Crie um objeto Ticker usando o símbolo\n",
        "ticker = yf.Ticker(symbol)\n",
        "\n",
        "# Obtenha os preços históricos para o período especificado\n",
        "historical_data = ticker.history(period=\"1d\", start=start_date, end=end_date)\n",
        "\n",
        "# Calcule as médias móveis\n",
        "short_window = 50\n",
        "long_window = 200\n",
        "\n",
        "historical_data['SMA50'] = historical_data['Close'].rolling(window=short_window).mean()\n",
        "historical_data['SMA200'] = historical_data['Close'].rolling(window=long_window).mean()\n",
        "\n",
        "# Inicialize variáveis para rastrear os resultados do backtest\n",
        "capital_inicial = 100000  # Exemplo: $100.000\n",
        "capital = capital_inicial\n",
        "posicao_aberta = False\n",
        "acoes_em_posicao = 0\n",
        "comissao = 0.001  # Exemplo de taxa de comissão\n",
        "\n",
        "# Execute o backtest\n",
        "for i in range(len(historical_data)):\n",
        "    last_price = historical_data['Close'].iloc[i]\n",
        "    sma_50 = historical_data['SMA50'].iloc[i]\n",
        "    sma_200 = historical_data['SMA200'].iloc[i]\n",
        "\n",
        "    if sma_50 > sma_200 and not posicao_aberta:\n",
        "        # Abra uma posição longa (comprar)\n",
        "        acoes_em_posicao = capital // last_price\n",
        "        capital -= acoes_em_posicao * last_price\n",
        "        posicao_aberta = True\n",
        "\n",
        "    elif sma_50 < sma_200 and posicao_aberta:\n",
        "        # Feche a posição longa (vender)\n",
        "        capital += acoes_em_posicao * last_price\n",
        "        capital -= capital * comissao  # Deduzir comissão\n",
        "        posicao_aberta = False\n",
        "        acoes_em_posicao = 0\n",
        "\n",
        "# Calcule o retorno final do backtest\n",
        "retorno_final = (capital + acoes_em_posicao * last_price - capital_inicial) / capital_inicial * 100\n",
        "\n",
        "print(f\"Retorno final do backtest: {retorno_final:.2f}%\")\n"
      ]
    }
  ]
}